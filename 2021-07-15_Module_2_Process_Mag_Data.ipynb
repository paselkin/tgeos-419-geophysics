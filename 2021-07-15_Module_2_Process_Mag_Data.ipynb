{
 "cells": [
  {
   "cell_type": "code",
   "execution_count": null,
   "metadata": {},
   "outputs": [],
   "source": [
    "import numpy as np\n",
    "import scipy.constants as spc\n",
    "import pandas as pd\n",
    "import altair as alt"
   ]
  },
  {
   "cell_type": "code",
   "execution_count": null,
   "metadata": {},
   "outputs": [],
   "source": [
    "# Constants\n",
    "mu_0 = spc.mu_0\n",
    "pi = spc.pi\n",
    "mag_const = mu_0/(4*pi)"
   ]
  },
  {
   "cell_type": "code",
   "execution_count": null,
   "metadata": {},
   "outputs": [],
   "source": [
    "D=pd.read_table(\"DATALOG.TXT\",names=['date','time','position','voltage'])\n",
    "pos=pd.DataFrame({'point':['begin','end'],'latitude':[47.250755, 47.250771],'longitude':[-122.480139,-122.480191]})\n",
    "print(pos)\n",
    "D['magnetic_field']=D['voltage'].str.replace(' uV','').astype(float)/(4*12.2*100)\n",
    "D.loc[D['magnetic_field']>0,'latitude']=np.linspace(pos['latitude'][0],pos['latitude'][1],len(D['date'][D['magnetic_field']>0]))\n",
    "D['magnetic_anomaly']=D['magnetic_field']-D.loc[117,'magnetic_field']\n",
    "print(D)"
   ]
  },
  {
   "cell_type": "code",
   "execution_count": null,
   "metadata": {},
   "outputs": [],
   "source": [
    "# Plot anomaly field\n",
    "measured_plot=alt.Chart(D.loc[D['magnetic_field']>0,:]).mark_point(color='steelblue',shape='square').encode(\n",
    "    x=alt.X(\"latitude:Q\",scale=alt.Scale(domain=(pos['latitude'][0],pos['latitude'][1]))),\n",
    "    y=alt.Y(\"magnetic_anomaly:Q\",scale=alt.Scale(domain=(-2,2)))\n",
    ")\n",
    "display(measured_plot)"
   ]
  },
  {
   "cell_type": "code",
   "execution_count": null,
   "metadata": {},
   "outputs": [],
   "source": [
    "# Set up survey parameters\n",
    "D = 100   # Line length in m\n",
    "h = 1      # Station height in m above ground\n",
    "N=1000     # Number of points\n",
    "\n",
    "survey_line=pd.DataFrame({'x':[np.array(xi) for xi in np.vstack([np.linspace(-D,D,N),np.ones((N,))*h]).T]})"
   ]
  },
  {
   "cell_type": "code",
   "execution_count": null,
   "metadata": {},
   "outputs": [],
   "source": [
    "# Set up Earth's magnetic field\n",
    "latitude = 47 # Latitude\n",
    "I_Earth = np.arctan(2*np.tan(np.radians(latitude)))  # Inclination of Earth's field\n",
    "B_Earth = 50E-6  # Earth's field magnitude in T (Note: B field, need to divide by mu_0 to get H)"
   ]
  },
  {
   "cell_type": "code",
   "execution_count": null,
   "metadata": {},
   "outputs": [],
   "source": [
    "# Set up source parameters\n",
    "\n",
    "yd = 0.     # Depth of dipole in m\n",
    "I_dipole = np.radians(80) # Inclination of dipole in degrees (assume N pole is on +X side)\n",
    "    # Set equal to I_Earth for induced magnetization\n",
    "mu_magnitude = 1. # Dipole moment magnitude in Am^2\n",
    "\n",
    "# Calculate dipole moment vector\n",
    "mu = mu_magnitude*np.array([np.cos(I_dipole), -np.sin(I_dipole)])\n",
    "\n",
    "def dipole(x_survey, x_dipole, mu):\n",
    "    r = x_survey-x_dipole\n",
    "    r_magnitude = np.linalg.norm(r)\n",
    "    r_hat = r/r_magnitude\n",
    "    return mag_const*3*((np.dot(mu,r_hat)*r_hat)-mu)/(r_magnitude**3)\n",
    "    \n",
    "\n",
    "survey_line['B'] = survey_line['x'].apply(dipole,x_dipole=np.array([0, -yd]), mu=mu)\n",
    "print(survey_line)"
   ]
  },
  {
   "cell_type": "code",
   "execution_count": null,
   "metadata": {},
   "outputs": [],
   "source": [
    "# Calculate anomaly field\n",
    "survey_line['delta_B']=survey_line['B'].apply(lambda xi: np.dot(xi,np.array([B_Earth*np.cos(np.radians(I_Earth)), \n",
    "                                                                             -B_Earth*np.sin(np.radians(I_Earth))])))"
   ]
  },
  {
   "cell_type": "code",
   "execution_count": null,
   "metadata": {},
   "outputs": [],
   "source": [
    "# Break vectors x and B into components for plotting\n",
    "survey_line['transect_distance']=survey_line['x'].apply(lambda xi: xi[0])\n",
    "survey_line['Bh']=survey_line['B'].apply(lambda xi: xi[0])\n",
    "survey_line['Bv']=survey_line['B'].apply(lambda xi: xi[1])"
   ]
  },
  {
   "cell_type": "code",
   "execution_count": null,
   "metadata": {},
   "outputs": [],
   "source": [
    "# Plot anomaly field\n",
    "anomaly_plot=alt.Chart(survey_line).mark_line().encode(\n",
    "    x=alt.X(\"transect_distance:Q\",scale=alt.Scale(domain=(-100,100))),\n",
    "    y=alt.Y(\"delta_B:Q\")\n",
    ")\n",
    "display(anomaly_plot)"
   ]
  }
 ],
 "metadata": {
  "kernelspec": {
   "display_name": "Python 3",
   "language": "python",
   "name": "python3"
  },
  "language_info": {
   "codemirror_mode": {
    "name": "ipython",
    "version": 3
   },
   "file_extension": ".py",
   "mimetype": "text/x-python",
   "name": "python",
   "nbconvert_exporter": "python",
   "pygments_lexer": "ipython3",
   "version": "3.7.6"
  }
 },
 "nbformat": 4,
 "nbformat_minor": 2
}
