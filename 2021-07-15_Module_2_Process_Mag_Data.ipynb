{
 "cells": [
  {
   "cell_type": "code",
   "execution_count": 14,
   "metadata": {},
   "outputs": [],
   "source": [
    "import numpy as np\n",
    "import scipy.constants as spc\n",
    "import pandas as pd\n",
    "import altair as alt"
   ]
  },
  {
   "cell_type": "code",
   "execution_count": 3,
   "metadata": {},
   "outputs": [],
   "source": [
    "# Constants\n",
    "mu_0 = spc.mu_0\n",
    "pi = spc.pi\n",
    "mag_const = mu_0/(4*pi)"
   ]
  },
  {
   "cell_type": "code",
   "execution_count": 20,
   "metadata": {},
   "outputs": [
    {
     "name": "stdout",
     "output_type": "stream",
     "text": [
      "   point   latitude   longitude\n",
      "0  begin  47.250755 -122.480139\n",
      "1    end  47.250771 -122.480191\n",
      "          date          time  position     voltage   latitude  magnetic_field\n",
      "0    2000-0-26  13:29:30.000       NaN   -77832 uV  47.250755      -15.949180\n",
      "1    2000-0-26  13:29:32.000       NaN   -77456 uV  47.250755      -15.872131\n",
      "2    2000-0-26  13:29:34.000       NaN   -77268 uV  47.250755      -15.833607\n",
      "3    2000-0-26  13:29:36.250       NaN   -77268 uV  47.250755      -15.833607\n",
      "4    2000-0-26  13:29:38.250       NaN   -77268 uV  47.250756      -15.833607\n",
      "..         ...           ...       ...         ...        ...             ...\n",
      "115  2021-7-15   16:8:41.099       NaN   225600 uV  47.250770       46.229508\n",
      "116  2021-7-15   16:8:43.128       NaN   227856 uV  47.250771       46.691803\n",
      "117  2021-7-15   16:8:45.158       NaN   227668 uV  47.250771       46.653279\n",
      "118  2021-7-15   16:8:47.187       NaN   211124 uV  47.250771       43.263115\n",
      "119  2021-7-15   16:8:49.217       NaN  -165440 uV  47.250771      -33.901639\n",
      "\n",
      "[120 rows x 6 columns]\n"
     ]
    }
   ],
   "source": [
    "D=pd.read_table(\"DATALOG.TXT\",names=['date','time','position','voltage'])\n",
    "pos=pd.DataFrame({'point':['begin','end'],'latitude':[47.250755, 47.250771],'longitude':[-122.480139,-122.480191]})\n",
    "print(pos)\n",
    "D['latitude']=np.linspace(pos['latitude'][0],pos['latitude'][1],len(D['position']))\n",
    "D['magnetic_field']=D['voltage'].str.replace(' uV','').astype(float)/(4*12.2*100)\n",
    "print(D)"
   ]
  },
  {
   "cell_type": "code",
   "execution_count": 21,
   "metadata": {},
   "outputs": [
    {
     "data": {
      "text/html": [
       "\n",
       "<div id=\"altair-viz-89da263474434241ba951591b39ba898\"></div>\n",
       "<script type=\"text/javascript\">\n",
       "  (function(spec, embedOpt){\n",
       "    let outputDiv = document.currentScript.previousElementSibling;\n",
       "    if (outputDiv.id !== \"altair-viz-89da263474434241ba951591b39ba898\") {\n",
       "      outputDiv = document.getElementById(\"altair-viz-89da263474434241ba951591b39ba898\");\n",
       "    }\n",
       "    const paths = {\n",
       "      \"vega\": \"https://cdn.jsdelivr.net/npm//vega@5?noext\",\n",
       "      \"vega-lib\": \"https://cdn.jsdelivr.net/npm//vega-lib?noext\",\n",
       "      \"vega-lite\": \"https://cdn.jsdelivr.net/npm//vega-lite@4.8.1?noext\",\n",
       "      \"vega-embed\": \"https://cdn.jsdelivr.net/npm//vega-embed@6?noext\",\n",
       "    };\n",
       "\n",
       "    function loadScript(lib) {\n",
       "      return new Promise(function(resolve, reject) {\n",
       "        var s = document.createElement('script');\n",
       "        s.src = paths[lib];\n",
       "        s.async = true;\n",
       "        s.onload = () => resolve(paths[lib]);\n",
       "        s.onerror = () => reject(`Error loading script: ${paths[lib]}`);\n",
       "        document.getElementsByTagName(\"head\")[0].appendChild(s);\n",
       "      });\n",
       "    }\n",
       "\n",
       "    function showError(err) {\n",
       "      outputDiv.innerHTML = `<div class=\"error\" style=\"color:red;\">${err}</div>`;\n",
       "      throw err;\n",
       "    }\n",
       "\n",
       "    function displayChart(vegaEmbed) {\n",
       "      vegaEmbed(outputDiv, spec, embedOpt)\n",
       "        .catch(err => showError(`Javascript Error: ${err.message}<br>This usually means there's a typo in your chart specification. See the javascript console for the full traceback.`));\n",
       "    }\n",
       "\n",
       "    if(typeof define === \"function\" && define.amd) {\n",
       "      requirejs.config({paths});\n",
       "      require([\"vega-embed\"], displayChart, err => showError(`Error loading script: ${err.message}`));\n",
       "    } else if (typeof vegaEmbed === \"function\") {\n",
       "      displayChart(vegaEmbed);\n",
       "    } else {\n",
       "      loadScript(\"vega\")\n",
       "        .then(() => loadScript(\"vega-lite\"))\n",
       "        .then(() => loadScript(\"vega-embed\"))\n",
       "        .catch(showError)\n",
       "        .then(() => displayChart(vegaEmbed));\n",
       "    }\n",
       "  })({\"config\": {\"view\": {\"continuousWidth\": 400, \"continuousHeight\": 300}}, \"data\": {\"name\": \"data-e289969e706b539da93d0009007f24aa\"}, \"mark\": {\"type\": \"point\", \"color\": \"steelblue\", \"shape\": \"square\"}, \"encoding\": {\"x\": {\"type\": \"quantitative\", \"field\": \"latitude\"}, \"y\": {\"type\": \"quantitative\", \"field\": \"magnetic_field\"}}, \"$schema\": \"https://vega.github.io/schema/vega-lite/v4.8.1.json\", \"datasets\": {\"data-e289969e706b539da93d0009007f24aa\": [{\"date\": \"2000-0-26\", \"time\": \"13:29:30.000\", \"position\": null, \"voltage\": \"-77832 uV\", \"latitude\": 47.250755, \"magnetic_field\": -15.949180327868852}, {\"date\": \"2000-0-26\", \"time\": \"13:29:32.000\", \"position\": null, \"voltage\": \"-77456 uV\", \"latitude\": 47.25075513445378, \"magnetic_field\": -15.872131147540983}, {\"date\": \"2000-0-26\", \"time\": \"13:29:34.000\", \"position\": null, \"voltage\": \"-77268 uV\", \"latitude\": 47.25075526890756, \"magnetic_field\": -15.833606557377049}, {\"date\": \"2000-0-26\", \"time\": \"13:29:36.250\", \"position\": null, \"voltage\": \"-77268 uV\", \"latitude\": 47.250755403361346, \"magnetic_field\": -15.833606557377049}, {\"date\": \"2000-0-26\", \"time\": \"13:29:38.250\", \"position\": null, \"voltage\": \"-77268 uV\", \"latitude\": 47.250755537815124, \"magnetic_field\": -15.833606557377049}, {\"date\": \"2000-0-26\", \"time\": \"13:29:40.250\", \"position\": null, \"voltage\": \"-77080 uV\", \"latitude\": 47.25075567226891, \"magnetic_field\": -15.795081967213115}, {\"date\": \"2000-0-26\", \"time\": \"13:29:42.250\", \"position\": null, \"voltage\": \"-77268 uV\", \"latitude\": 47.25075580672269, \"magnetic_field\": -15.833606557377049}, {\"date\": \"2000-0-26\", \"time\": \"13:29:44.250\", \"position\": null, \"voltage\": \"-77268 uV\", \"latitude\": 47.25075594117647, \"magnetic_field\": -15.833606557377049}, {\"date\": \"2000-0-26\", \"time\": \"13:29:46.250\", \"position\": null, \"voltage\": \"-77456 uV\", \"latitude\": 47.25075607563025, \"magnetic_field\": -15.872131147540983}, {\"date\": \"2000-0-26\", \"time\": \"13:29:48.250\", \"position\": null, \"voltage\": \"-77268 uV\", \"latitude\": 47.250756210084035, \"magnetic_field\": -15.833606557377049}, {\"date\": \"2000-0-26\", \"time\": \"13:29:50.250\", \"position\": null, \"voltage\": \"-77268 uV\", \"latitude\": 47.25075634453781, \"magnetic_field\": -15.833606557377049}, {\"date\": \"2000-0-26\", \"time\": \"13:29:52.250\", \"position\": null, \"voltage\": \"-77268 uV\", \"latitude\": 47.2507564789916, \"magnetic_field\": -15.833606557377049}, {\"date\": \"2000-0-0\", \"time\": \"23:59:49.762\", \"position\": null, \"voltage\": \"-77268 uV\", \"latitude\": 47.250756613445375, \"magnetic_field\": -15.833606557377049}, {\"date\": \"2000-0-0\", \"time\": \"23:59:51.792\", \"position\": null, \"voltage\": \"-77080 uV\", \"latitude\": 47.25075674789916, \"magnetic_field\": -15.795081967213115}, {\"date\": \"2000-0-0\", \"time\": \"23:59:53.821\", \"position\": null, \"voltage\": \"-77268 uV\", \"latitude\": 47.25075688235294, \"magnetic_field\": -15.833606557377049}, {\"date\": \"2000-0-0\", \"time\": \"23:59:55.854\", \"position\": null, \"voltage\": \"-77268 uV\", \"latitude\": 47.25075701680672, \"magnetic_field\": -15.833606557377049}, {\"date\": \"2080-1-5\", \"time\": \"23:59:51.522\", \"position\": null, \"voltage\": \"-77080 uV\", \"latitude\": 47.2507571512605, \"magnetic_field\": -15.795081967213115}, {\"date\": \"2080-1-5\", \"time\": \"23:59:53.551\", \"position\": null, \"voltage\": \"-76892 uV\", \"latitude\": 47.250757285714286, \"magnetic_field\": -15.75655737704918}, {\"date\": \"2080-1-5\", \"time\": \"23:59:55.580\", \"position\": null, \"voltage\": \"-77268 uV\", \"latitude\": 47.250757420168064, \"magnetic_field\": -15.833606557377049}, {\"date\": \"2080-1-5\", \"time\": \"23:59:57.610\", \"position\": null, \"voltage\": \"-77268 uV\", \"latitude\": 47.25075755462185, \"magnetic_field\": -15.833606557377049}, {\"date\": \"2080-1-5\", \"time\": \"23:59:59.640\", \"position\": null, \"voltage\": \"-77268 uV\", \"latitude\": 47.25075768907563, \"magnetic_field\": -15.833606557377049}, {\"date\": \"2080-1-5\", \"time\": \"23:60:1.669\", \"position\": null, \"voltage\": \"-77080 uV\", \"latitude\": 47.25075782352941, \"magnetic_field\": -15.795081967213115}, {\"date\": \"2080-1-5\", \"time\": \"23:59:58.461\", \"position\": null, \"voltage\": \"-77080 uV\", \"latitude\": 47.25075795798319, \"magnetic_field\": -15.795081967213115}, {\"date\": \"2080-1-5\", \"time\": \"23:60:0.490\", \"position\": null, \"voltage\": \"-77080 uV\", \"latitude\": 47.250758092436975, \"magnetic_field\": -15.795081967213115}, {\"date\": \"2080-1-5\", \"time\": \"23:60:2.519\", \"position\": null, \"voltage\": \"-77080 uV\", \"latitude\": 47.25075822689075, \"magnetic_field\": -15.795081967213115}, {\"date\": \"2080-1-5\", \"time\": \"23:60:4.549\", \"position\": null, \"voltage\": \"-77080 uV\", \"latitude\": 47.25075836134454, \"magnetic_field\": -15.795081967213115}, {\"date\": \"2080-1-5\", \"time\": \"23:60:1.420\", \"position\": null, \"voltage\": \"-77080 uV\", \"latitude\": 47.250758495798316, \"magnetic_field\": -15.795081967213115}, {\"date\": \"2080-1-5\", \"time\": \"23:60:3.449\", \"position\": null, \"voltage\": \"-77268 uV\", \"latitude\": 47.2507586302521, \"magnetic_field\": -15.833606557377049}, {\"date\": \"2080-1-5\", \"time\": \"23:60:5.478\", \"position\": null, \"voltage\": \"-75952 uV\", \"latitude\": 47.25075876470588, \"magnetic_field\": -15.563934426229508}, {\"date\": \"2080-1-5\", \"time\": \"16:5:52.090\", \"position\": null, \"voltage\": \"-75952 uV\", \"latitude\": 47.25075889915966, \"magnetic_field\": -15.563934426229508}, {\"date\": \"2080-1-5\", \"time\": \"16:5:54.120\", \"position\": null, \"voltage\": \"-75952 uV\", \"latitude\": 47.25075903361344, \"magnetic_field\": -15.563934426229508}, {\"date\": \"2080-1-5\", \"time\": \"16:5:56.147\", \"position\": null, \"voltage\": \"-76140 uV\", \"latitude\": 47.250759168067226, \"magnetic_field\": -15.602459016393443}, {\"date\": \"2021-7-15\", \"time\": \"16:5:52.389\", \"position\": null, \"voltage\": \"-75952 uV\", \"latitude\": 47.250759302521004, \"magnetic_field\": -15.563934426229508}, {\"date\": \"2021-7-15\", \"time\": \"16:5:54.419\", \"position\": null, \"voltage\": \"-76140 uV\", \"latitude\": 47.25075943697479, \"magnetic_field\": -15.602459016393443}, {\"date\": \"2021-7-15\", \"time\": \"16:5:56.448\", \"position\": null, \"voltage\": \"-76140 uV\", \"latitude\": 47.25075957142857, \"magnetic_field\": -15.602459016393443}, {\"date\": \"2021-7-15\", \"time\": \"16:6:1.691\", \"position\": null, \"voltage\": \"-76140 uV\", \"latitude\": 47.25075970588235, \"magnetic_field\": -15.602459016393443}, {\"date\": \"2021-7-15\", \"time\": \"16:6:3.721\", \"position\": null, \"voltage\": \"-75952 uV\", \"latitude\": 47.25075984033613, \"magnetic_field\": -15.563934426229508}, {\"date\": \"2021-7-15\", \"time\": \"16:6:5.750\", \"position\": null, \"voltage\": \"-76140 uV\", \"latitude\": 47.250759974789915, \"magnetic_field\": -15.602459016393443}, {\"date\": \"2021-7-15\", \"time\": \"16:6:1.991\", \"position\": null, \"voltage\": \"-75952 uV\", \"latitude\": 47.25076010924369, \"magnetic_field\": -15.563934426229508}, {\"date\": \"2021-7-15\", \"time\": \"16:6:4.021\", \"position\": null, \"voltage\": \"-75952 uV\", \"latitude\": 47.25076024369748, \"magnetic_field\": -15.563934426229508}, {\"date\": \"2021-7-15\", \"time\": \"16:6:6.050\", \"position\": null, \"voltage\": \"-76140 uV\", \"latitude\": 47.25076037815126, \"magnetic_field\": -15.602459016393443}, {\"date\": \"2021-7-15\", \"time\": \"16:6:11.285\", \"position\": null, \"voltage\": \"-76140 uV\", \"latitude\": 47.25076051260504, \"magnetic_field\": -15.602459016393443}, {\"date\": \"2021-7-15\", \"time\": \"16:6:13.315\", \"position\": null, \"voltage\": \"-76140 uV\", \"latitude\": 47.250760647058826, \"magnetic_field\": -15.602459016393443}, {\"date\": \"2021-7-15\", \"time\": \"16:6:15.344\", \"position\": null, \"voltage\": \"-75952 uV\", \"latitude\": 47.250760781512604, \"magnetic_field\": -15.563934426229508}, {\"date\": \"2021-7-15\", \"time\": \"16:6:17.373\", \"position\": null, \"voltage\": \"-76140 uV\", \"latitude\": 47.25076091596639, \"magnetic_field\": -15.602459016393443}, {\"date\": \"2021-7-15\", \"time\": \"16:6:19.403\", \"position\": null, \"voltage\": \"-76140 uV\", \"latitude\": 47.25076105042017, \"magnetic_field\": -15.602459016393443}, {\"date\": \"2021-7-15\", \"time\": \"16:6:21.437\", \"position\": null, \"voltage\": \"-75952 uV\", \"latitude\": 47.25076118487395, \"magnetic_field\": -15.563934426229508}, {\"date\": \"2021-7-15\", \"time\": \"16:6:23.467\", \"position\": null, \"voltage\": \"-75952 uV\", \"latitude\": 47.25076131932773, \"magnetic_field\": -15.563934426229508}, {\"date\": \"2021-7-15\", \"time\": \"16:6:25.496\", \"position\": null, \"voltage\": \"-76140 uV\", \"latitude\": 47.250761453781514, \"magnetic_field\": -15.602459016393443}, {\"date\": \"2021-7-15\", \"time\": \"16:6:27.526\", \"position\": null, \"voltage\": \"-76140 uV\", \"latitude\": 47.25076158823529, \"magnetic_field\": -15.602459016393443}, {\"date\": \"2021-7-15\", \"time\": \"16:6:29.556\", \"position\": null, \"voltage\": \"-76140 uV\", \"latitude\": 47.25076172268908, \"magnetic_field\": -15.602459016393443}, {\"date\": \"2021-7-15\", \"time\": \"16:6:31.585\", \"position\": null, \"voltage\": \"-76140 uV\", \"latitude\": 47.250761857142855, \"magnetic_field\": -15.602459016393443}, {\"date\": \"2021-7-15\", \"time\": \"16:6:33.615\", \"position\": null, \"voltage\": \"-75764 uV\", \"latitude\": 47.25076199159664, \"magnetic_field\": -15.525409836065574}, {\"date\": \"2021-7-15\", \"time\": \"16:6:35.644\", \"position\": null, \"voltage\": \"-76140 uV\", \"latitude\": 47.25076212605042, \"magnetic_field\": -15.602459016393443}, {\"date\": \"2021-7-15\", \"time\": \"16:6:37.673\", \"position\": null, \"voltage\": \"-76140 uV\", \"latitude\": 47.2507622605042, \"magnetic_field\": -15.602459016393443}, {\"date\": \"2021-7-15\", \"time\": \"16:6:39.703\", \"position\": null, \"voltage\": \"-75952 uV\", \"latitude\": 47.25076239495798, \"magnetic_field\": -15.563934426229508}, {\"date\": \"2021-7-15\", \"time\": \"16:6:41.733\", \"position\": null, \"voltage\": \"-75952 uV\", \"latitude\": 47.250762529411766, \"magnetic_field\": -15.563934426229508}, {\"date\": \"2021-7-15\", \"time\": \"16:6:43.762\", \"position\": null, \"voltage\": \"-75952 uV\", \"latitude\": 47.250762663865544, \"magnetic_field\": -15.563934426229508}, {\"date\": \"2021-7-15\", \"time\": \"16:6:45.791\", \"position\": null, \"voltage\": \"-76140 uV\", \"latitude\": 47.25076279831933, \"magnetic_field\": -15.602459016393443}, {\"date\": \"2021-7-15\", \"time\": \"16:6:47.821\", \"position\": null, \"voltage\": \"-76140 uV\", \"latitude\": 47.25076293277311, \"magnetic_field\": -15.602459016393443}, {\"date\": \"2021-7-15\", \"time\": \"16:6:49.851\", \"position\": null, \"voltage\": \"-75952 uV\", \"latitude\": 47.25076306722689, \"magnetic_field\": -15.563934426229508}, {\"date\": \"2021-7-15\", \"time\": \"16:6:51.883\", \"position\": null, \"voltage\": \"-75952 uV\", \"latitude\": 47.25076320168067, \"magnetic_field\": -15.563934426229508}, {\"date\": \"2021-7-15\", \"time\": \"16:6:53.913\", \"position\": null, \"voltage\": \"-75764 uV\", \"latitude\": 47.250763336134455, \"magnetic_field\": -15.525409836065574}, {\"date\": \"2021-7-15\", \"time\": \"16:6:55.943\", \"position\": null, \"voltage\": \"-75952 uV\", \"latitude\": 47.25076347058823, \"magnetic_field\": -15.563934426229508}, {\"date\": \"2021-7-15\", \"time\": \"16:6:57.972\", \"position\": null, \"voltage\": \"-75952 uV\", \"latitude\": 47.25076360504202, \"magnetic_field\": -15.563934426229508}, {\"date\": \"2021-7-15\", \"time\": \"16:7:0.001\", \"position\": null, \"voltage\": \"-75952 uV\", \"latitude\": 47.250763739495795, \"magnetic_field\": -15.563934426229508}, {\"date\": \"2021-7-15\", \"time\": \"16:7:2.032\", \"position\": null, \"voltage\": \"-75764 uV\", \"latitude\": 47.25076387394958, \"magnetic_field\": -15.525409836065574}, {\"date\": \"2021-7-15\", \"time\": \"16:7:4.061\", \"position\": null, \"voltage\": \"-75952 uV\", \"latitude\": 47.25076400840336, \"magnetic_field\": -15.563934426229508}, {\"date\": \"2021-7-15\", \"time\": \"16:7:6.091\", \"position\": null, \"voltage\": \"-75952 uV\", \"latitude\": 47.25076414285714, \"magnetic_field\": -15.563934426229508}, {\"date\": \"2021-7-15\", \"time\": \"16:7:8.120\", \"position\": null, \"voltage\": \"-75952 uV\", \"latitude\": 47.25076427731092, \"magnetic_field\": -15.563934426229508}, {\"date\": \"2021-7-15\", \"time\": \"16:7:10.150\", \"position\": null, \"voltage\": \"-75952 uV\", \"latitude\": 47.250764411764706, \"magnetic_field\": -15.563934426229508}, {\"date\": \"2021-7-15\", \"time\": \"16:7:12.179\", \"position\": null, \"voltage\": \"-76140 uV\", \"latitude\": 47.250764546218484, \"magnetic_field\": -15.602459016393443}, {\"date\": \"2021-7-15\", \"time\": \"16:7:14.209\", \"position\": null, \"voltage\": \"-75952 uV\", \"latitude\": 47.25076468067227, \"magnetic_field\": -15.563934426229508}, {\"date\": \"2021-7-15\", \"time\": \"16:7:16.239\", \"position\": null, \"voltage\": \"-76140 uV\", \"latitude\": 47.25076481512605, \"magnetic_field\": -15.602459016393443}, {\"date\": \"2021-7-15\", \"time\": \"16:7:18.268\", \"position\": null, \"voltage\": \"-75952 uV\", \"latitude\": 47.25076494957983, \"magnetic_field\": -15.563934426229508}, {\"date\": \"2021-7-15\", \"time\": \"16:7:20.298\", \"position\": null, \"voltage\": \"-75952 uV\", \"latitude\": 47.25076508403361, \"magnetic_field\": -15.563934426229508}, {\"date\": \"2021-7-15\", \"time\": \"16:7:22.330\", \"position\": null, \"voltage\": \"-75764 uV\", \"latitude\": 47.250765218487395, \"magnetic_field\": -15.525409836065574}, {\"date\": \"2021-7-15\", \"time\": \"16:7:24.360\", \"position\": null, \"voltage\": \"-75952 uV\", \"latitude\": 47.25076535294117, \"magnetic_field\": -15.563934426229508}, {\"date\": \"2021-7-15\", \"time\": \"16:7:26.390\", \"position\": null, \"voltage\": \"-75952 uV\", \"latitude\": 47.25076548739496, \"magnetic_field\": -15.563934426229508}, {\"date\": \"2021-7-15\", \"time\": \"16:7:28.419\", \"position\": null, \"voltage\": \"-75952 uV\", \"latitude\": 47.250765621848736, \"magnetic_field\": -15.563934426229508}, {\"date\": \"2021-7-15\", \"time\": \"16:7:30.449\", \"position\": null, \"voltage\": \"-75952 uV\", \"latitude\": 47.25076575630252, \"magnetic_field\": -15.563934426229508}, {\"date\": \"2021-7-15\", \"time\": \"16:7:32.478\", \"position\": null, \"voltage\": \"-75952 uV\", \"latitude\": 47.250765890756306, \"magnetic_field\": -15.563934426229508}, {\"date\": \"2021-7-15\", \"time\": \"16:7:34.507\", \"position\": null, \"voltage\": \"-75764 uV\", \"latitude\": 47.25076602521008, \"magnetic_field\": -15.525409836065574}, {\"date\": \"2021-7-15\", \"time\": \"16:7:36.538\", \"position\": null, \"voltage\": \"-75952 uV\", \"latitude\": 47.25076615966387, \"magnetic_field\": -15.563934426229508}, {\"date\": \"2021-7-15\", \"time\": \"16:7:38.567\", \"position\": null, \"voltage\": \"-76140 uV\", \"latitude\": 47.250766294117646, \"magnetic_field\": -15.602459016393443}, {\"date\": \"2021-7-15\", \"time\": \"16:7:40.596\", \"position\": null, \"voltage\": \"-75952 uV\", \"latitude\": 47.25076642857143, \"magnetic_field\": -15.563934426229508}, {\"date\": \"2021-7-15\", \"time\": \"16:7:42.625\", \"position\": null, \"voltage\": \"-75952 uV\", \"latitude\": 47.25076656302521, \"magnetic_field\": -15.563934426229508}, {\"date\": \"2021-7-15\", \"time\": \"16:7:44.655\", \"position\": null, \"voltage\": \"-75952 uV\", \"latitude\": 47.250766697478994, \"magnetic_field\": -15.563934426229508}, {\"date\": \"2021-7-15\", \"time\": \"16:7:46.685\", \"position\": null, \"voltage\": \"-75952 uV\", \"latitude\": 47.25076683193277, \"magnetic_field\": -15.563934426229508}, {\"date\": \"2021-7-15\", \"time\": \"16:7:48.714\", \"position\": null, \"voltage\": \"-75764 uV\", \"latitude\": 47.25076696638656, \"magnetic_field\": -15.525409836065574}, {\"date\": \"2021-7-15\", \"time\": \"16:7:50.355\", \"position\": null, \"voltage\": \"-76140 uV\", \"latitude\": 47.250767100840335, \"magnetic_field\": -15.602459016393443}, {\"date\": \"2021-7-15\", \"time\": \"16:7:52.387\", \"position\": null, \"voltage\": \"-75952 uV\", \"latitude\": 47.25076723529412, \"magnetic_field\": -15.563934426229508}, {\"date\": \"2021-7-15\", \"time\": \"16:7:54.417\", \"position\": null, \"voltage\": \"-75952 uV\", \"latitude\": 47.2507673697479, \"magnetic_field\": -15.563934426229508}, {\"date\": \"2021-7-15\", \"time\": \"16:7:56.447\", \"position\": null, \"voltage\": \"-75952 uV\", \"latitude\": 47.25076750420168, \"magnetic_field\": -15.563934426229508}, {\"date\": \"2021-7-15\", \"time\": \"16:7:58.476\", \"position\": null, \"voltage\": \"-76140 uV\", \"latitude\": 47.25076763865546, \"magnetic_field\": -15.602459016393443}, {\"date\": \"2021-7-15\", \"time\": \"16:8:0.505\", \"position\": null, \"voltage\": \"-75952 uV\", \"latitude\": 47.250767773109246, \"magnetic_field\": -15.563934426229508}, {\"date\": \"2021-7-15\", \"time\": \"16:8:2.535\", \"position\": null, \"voltage\": \"-75952 uV\", \"latitude\": 47.250767907563024, \"magnetic_field\": -15.563934426229508}, {\"date\": \"2021-7-15\", \"time\": \"16:8:4.564\", \"position\": null, \"voltage\": \"-75952 uV\", \"latitude\": 47.25076804201681, \"magnetic_field\": -15.563934426229508}, {\"date\": \"2021-7-15\", \"time\": \"16:8:6.594\", \"position\": null, \"voltage\": \"-74824 uV\", \"latitude\": 47.25076817647059, \"magnetic_field\": -15.332786885245902}, {\"date\": \"2021-7-15\", \"time\": \"16:8:8.624\", \"position\": null, \"voltage\": \"-73508 uV\", \"latitude\": 47.25076831092437, \"magnetic_field\": -15.063114754098361}, {\"date\": \"2021-7-15\", \"time\": \"16:8:10.653\", \"position\": null, \"voltage\": \"-105468 uV\", \"latitude\": 47.25076844537815, \"magnetic_field\": -21.612295081967215}, {\"date\": \"2021-7-15\", \"time\": \"16:8:12.682\", \"position\": null, \"voltage\": \"153220 uV\", \"latitude\": 47.250768579831934, \"magnetic_field\": 31.397540983606557}, {\"date\": \"2021-7-15\", \"time\": \"16:8:14.712\", \"position\": null, \"voltage\": \"228608 uV\", \"latitude\": 47.25076871428571, \"magnetic_field\": 46.84590163934426}, {\"date\": \"2021-7-15\", \"time\": \"16:8:16.742\", \"position\": null, \"voltage\": \"222592 uV\", \"latitude\": 47.2507688487395, \"magnetic_field\": 45.61311475409836}, {\"date\": \"2021-7-15\", \"time\": \"16:8:18.771\", \"position\": null, \"voltage\": \"225412 uV\", \"latitude\": 47.250768983193275, \"magnetic_field\": 46.190983606557374}, {\"date\": \"2021-7-15\", \"time\": \"16:8:20.800\", \"position\": null, \"voltage\": \"224284 uV\", \"latitude\": 47.25076911764706, \"magnetic_field\": 45.95983606557377}, {\"date\": \"2021-7-15\", \"time\": \"16:8:22.833\", \"position\": null, \"voltage\": \"228044 uV\", \"latitude\": 47.25076925210084, \"magnetic_field\": 46.730327868852456}, {\"date\": \"2021-7-15\", \"time\": \"16:8:24.863\", \"position\": null, \"voltage\": \"228044 uV\", \"latitude\": 47.25076938655462, \"magnetic_field\": 46.730327868852456}, {\"date\": \"2021-7-15\", \"time\": \"16:8:26.892\", \"position\": null, \"voltage\": \"226164 uV\", \"latitude\": 47.2507695210084, \"magnetic_field\": 46.34508196721311}, {\"date\": \"2021-7-15\", \"time\": \"16:8:28.922\", \"position\": null, \"voltage\": \"225976 uV\", \"latitude\": 47.250769655462186, \"magnetic_field\": 46.30655737704918}, {\"date\": \"2021-7-15\", \"time\": \"16:8:30.951\", \"position\": null, \"voltage\": \"225412 uV\", \"latitude\": 47.250769789915964, \"magnetic_field\": 46.190983606557374}, {\"date\": \"2021-7-15\", \"time\": \"16:8:32.980\", \"position\": null, \"voltage\": \"226916 uV\", \"latitude\": 47.25076992436975, \"magnetic_field\": 46.49918032786885}, {\"date\": \"2021-7-15\", \"time\": \"16:8:35.010\", \"position\": null, \"voltage\": \"228232 uV\", \"latitude\": 47.25077005882353, \"magnetic_field\": 46.768852459016394}, {\"date\": \"2021-7-15\", \"time\": \"16:8:37.041\", \"position\": null, \"voltage\": \"225600 uV\", \"latitude\": 47.25077019327731, \"magnetic_field\": 46.22950819672131}, {\"date\": \"2021-7-15\", \"time\": \"16:8:39.070\", \"position\": null, \"voltage\": \"225600 uV\", \"latitude\": 47.25077032773109, \"magnetic_field\": 46.22950819672131}, {\"date\": \"2021-7-15\", \"time\": \"16:8:41.099\", \"position\": null, \"voltage\": \"225600 uV\", \"latitude\": 47.250770462184875, \"magnetic_field\": 46.22950819672131}, {\"date\": \"2021-7-15\", \"time\": \"16:8:43.128\", \"position\": null, \"voltage\": \"227856 uV\", \"latitude\": 47.25077059663865, \"magnetic_field\": 46.691803278688525}, {\"date\": \"2021-7-15\", \"time\": \"16:8:45.158\", \"position\": null, \"voltage\": \"227668 uV\", \"latitude\": 47.25077073109244, \"magnetic_field\": 46.65327868852459}, {\"date\": \"2021-7-15\", \"time\": \"16:8:47.187\", \"position\": null, \"voltage\": \"211124 uV\", \"latitude\": 47.250770865546215, \"magnetic_field\": 43.26311475409836}, {\"date\": \"2021-7-15\", \"time\": \"16:8:49.217\", \"position\": null, \"voltage\": \"-165440 uV\", \"latitude\": 47.250771, \"magnetic_field\": -33.90163934426229}]}}, {\"mode\": \"vega-lite\"});\n",
       "</script>"
      ],
      "text/plain": [
       "alt.Chart(...)"
      ]
     },
     "metadata": {},
     "output_type": "display_data"
    }
   ],
   "source": [
    "# Plot anomaly field\n",
    "measured_plot=alt.Chart(D).mark_point(color='steelblue',shape='square').encode(\n",
    "    x=alt.X(\"latitude:Q\",scale=alt.Scale(domain=(-100,100))),\n",
    "    y=alt.Y(\"magnetic_field:Q\")\n",
    ")\n",
    "display(measured_plot)"
   ]
  },
  {
   "cell_type": "code",
   "execution_count": null,
   "metadata": {},
   "outputs": [],
   "source": [
    "# Set up survey parameters\n",
    "D = 100   # Line length in m\n",
    "h = 2      # Station height in m above ground\n",
    "N=1000     # Number of points\n",
    "\n",
    "survey_line=pd.DataFrame({'x':[np.array(xi) for xi in np.vstack([np.linspace(-D,D,N),np.ones((N,))*h]).T]})"
   ]
  },
  {
   "cell_type": "code",
   "execution_count": null,
   "metadata": {},
   "outputs": [],
   "source": [
    "# Set up Earth's magnetic field\n",
    "latitude = 47 # Latitude\n",
    "I_Earth = np.arctan(2*np.tan(np.radians(latitude)))  # Inclination of Earth's field\n",
    "B_Earth = 50E-6  # Earth's field magnitude in T (Note: B field, need to divide by mu_0 to get H)"
   ]
  },
  {
   "cell_type": "code",
   "execution_count": null,
   "metadata": {},
   "outputs": [],
   "source": [
    "# Set up source parameters\n",
    "\n",
    "yd = 1.     # Depth of dipole in m\n",
    "I_dipole = np.radians(80) # Inclination of dipole in degrees (assume N pole is on +X side)\n",
    "    # Set equal to I_Earth for induced magnetization\n",
    "mu_magnitude = 1. # Dipole moment magnitude in Am^2\n",
    "\n",
    "# Calculate dipole moment vector\n",
    "mu = mu_magnitude*np.array([np.cos(I_dipole), -np.sin(I_dipole)])\n",
    "\n",
    "def dipole(x_survey, x_dipole, mu):\n",
    "    r = x_survey-x_dipole\n",
    "    r_magnitude = np.linalg.norm(r)\n",
    "    r_hat = r/r_magnitude\n",
    "    return mag_const*3*((np.dot(mu,r_hat)*r_hat)-mu)/(r_magnitude**3)\n",
    "    \n",
    "\n",
    "survey_line['B'] = survey_line['x'].apply(dipole,x_dipole=np.array([0, -yd]), mu=mu)\n",
    "print(survey_line)"
   ]
  },
  {
   "cell_type": "code",
   "execution_count": null,
   "metadata": {},
   "outputs": [],
   "source": [
    "# Calculate anomaly field\n",
    "survey_line['delta_B']=survey_line['B'].apply(lambda xi: np.dot(xi,np.array([B_Earth*np.cos(np.radians(I_Earth)), \n",
    "                                                                             -B_Earth*np.sin(np.radians(I_Earth))])))"
   ]
  },
  {
   "cell_type": "code",
   "execution_count": null,
   "metadata": {},
   "outputs": [],
   "source": [
    "# Break vectors x and B into components for plotting\n",
    "survey_line['transect_distance']=survey_line['x'].apply(lambda xi: xi[0])\n",
    "survey_line['Bh']=survey_line['B'].apply(lambda xi: xi[0])\n",
    "survey_line['Bv']=survey_line['B'].apply(lambda xi: xi[1])"
   ]
  },
  {
   "cell_type": "code",
   "execution_count": null,
   "metadata": {},
   "outputs": [],
   "source": [
    "# Plot anomaly field\n",
    "anomaly_plot=alt.Chart(survey_line).mark_line().encode(\n",
    "    x=alt.X(\"transect_distance:Q\",scale=alt.Scale(domain=(-100,100))),\n",
    "    y=alt.Y(\"delta_B:Q\")\n",
    ")\n",
    "display(anomaly_plot)"
   ]
  }
 ],
 "metadata": {
  "kernelspec": {
   "display_name": "Python 3",
   "language": "python",
   "name": "python3"
  },
  "language_info": {
   "codemirror_mode": {
    "name": "ipython",
    "version": 3
   },
   "file_extension": ".py",
   "mimetype": "text/x-python",
   "name": "python",
   "nbconvert_exporter": "python",
   "pygments_lexer": "ipython3",
   "version": "3.7.6"
  }
 },
 "nbformat": 4,
 "nbformat_minor": 2
}
