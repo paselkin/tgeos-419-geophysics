{
 "cells": [
  {
   "cell_type": "code",
   "execution_count": 1,
   "metadata": {},
   "outputs": [],
   "source": [
    "import numpy as np\n",
    "import scipy as sp\n",
    "import matplotlib.pyplot as plt"
   ]
  },
  {
   "cell_type": "code",
   "execution_count": 2,
   "metadata": {},
   "outputs": [],
   "source": [
    "def g_lambda(latitude):\n",
    "    return 978031.8*(1+(0.0053024*(np.sin(np.radians(latitude)))**2)-(0.0000059*np.sin(np.radians(2*latitude)))**2)\n",
    "def delta_g_eotvos(v, azimuth, latitude):\n",
    "    return -((4.040*v*np.sin(np.radians(azimuth))*np.cos(np.radians(latitude)))+(0.001211*v**2))\n",
    "def delta_g_FA(h):\n",
    "    return -0.3086*h"
   ]
  },
  {
   "cell_type": "code",
   "execution_count": null,
   "metadata": {},
   "outputs": [],
   "source": [
    "latitude = 47.2529\n",
    "azimuth_plane = 270\n",
    "azimuth_ship=0\n",
    "v_ship=22\n",
    "v_plane=800\n",
    "h_ship=0\n",
    "h_plane=10000\n",
    "print('ship:',g_lambda(latitude)+delta_g_eotvos(v_ship,azimuth_ship,latitude)+0.3086*h_ship)\n",
    "print('plane:',g_lambda(latitude)+delta_g_eotvos(v_plane,azimuth_plane,latitude)+0.3086*h_plane)"
   ]
  }
 ],
 "metadata": {
  "kernelspec": {
   "display_name": "Python 3",
   "language": "python",
   "name": "python3"
  },
  "language_info": {
   "codemirror_mode": {
    "name": "ipython",
    "version": 3
   },
   "file_extension": ".py",
   "mimetype": "text/x-python",
   "name": "python",
   "nbconvert_exporter": "python",
   "pygments_lexer": "ipython3",
   "version": "3.7.6"
  }
 },
 "nbformat": 4,
 "nbformat_minor": 4
}
