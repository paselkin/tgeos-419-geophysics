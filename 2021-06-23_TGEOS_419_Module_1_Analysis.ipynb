{
 "cells": [
  {
   "cell_type": "markdown",
   "metadata": {},
   "source": [
    "# Module 1 Data Analysis: Gravity\n",
    "\n",
    "In this assignment, you will process (reduce) some gravity data, graph it to visualize trends and consider differences among gravity anomalies, and build a few models to explain the data.\n",
    "\n",
    "To run a block of code, press CTRL+ENTER. Remember that you'll need to re-run a block after you've made a modification to see what the effect is of your change! You'll want to start by running the blocks in sequential order."
   ]
  },
  {
   "cell_type": "code",
   "execution_count": 1,
   "metadata": {},
   "outputs": [],
   "source": [
    "import numpy as np\n",
    "import scipy as sp\n",
    "import pandas as pd\n",
    "import altair as alt"
   ]
  },
  {
   "cell_type": "code",
   "execution_count": null,
   "metadata": {},
   "outputs": [],
   "source": [
    "# Common constants\n",
    "G = 6.67E-11 # Gravitational constant\n",
    "\n",
    "# Common corrections\n",
    "def g_lambda(latitude):\n",
    "    return 978031.8*(1+(0.0053024*(np.sin(np.radians(latitude)))**2)-(0.0000059*np.sin(np.radians(2*latitude)))**2)\n",
    "def delta_g_eotvos(v, azimuth, latitude):\n",
    "    return ((4.040*v*np.sin(np.radians(azimuth))*np.cos(np.radians(latitude)))+(0.001211*v**2))\n",
    "def delta_g_FA(h):\n",
    "    return 0.3086*h\n",
    "def delta_g_B(h, density):\n",
    "    return 2*np.pi*G*density*h\n",
    "\n",
    "# Common models\n",
    "def delta_g_sphere(density_difference, r, h, x):\n",
    "    return 4*np.pi*G*density_difference*(r**3)*h/(3*(((x**2)+(h**2))**(3/2)))\n",
    "def delta_g_cylinder(density_difference, r, h, x):\n",
    "    return 2*np.pi*G*density_difference*(r**2)*h/((x**2)+(h**2))\n",
    "def delta_g_half_sheet(density_difference, t, h, x):\n",
    "    return 2*G*density_difference*t*((np.pi/2)+np.arctan(x/h))"
   ]
  },
  {
   "cell_type": "code",
   "execution_count": null,
   "metadata": {},
   "outputs": [],
   "source": [
    "# Read in gravity data from Washington DNR surveys\n",
    "gravity_data=pd.read_csv(\"2021-06-23_TGEOS_495_Kitsap_Gravity.csv\") # Read in the data (as a spreadsheet)\n",
    "print (gravity_data.head()) # Show the first few lines of the spreadsheet"
   ]
  },
  {
   "cell_type": "code",
   "execution_count": null,
   "metadata": {},
   "outputs": [],
   "source": [
    "# Calculate one free-air anomaly and see if it matches what DNR lists here\n",
    "lam = gravity_data.loc[0,'LATITUDE_D']     # Greek letter lambda (λ) stands for latitude... but don't call it \"lambda\" because that's a Python command! \n",
    "h = gravity_data.loc[0,'ELEVATION_']       # Store elevation data in the space in memory (a.k.a. variable) called h\n",
    "predicted=g_lambda(lam)-delta_g_FA(h)      # Predictions are the acceleration due to gravity on a rotating Earth minus a correction because of elevation\n",
    "observed=gravity_data.loc[0,'OBSERVED_G']  # Store the observed gravity data in a variable we'll call observed\n",
    "print(\"Free-air anomaly for station \",gravity_data.loc[0,'OBSERVATIO'],\":\",observed-predicted)"
   ]
  },
  {
   "cell_type": "markdown",
   "metadata": {},
   "source": [
    "### Try this:\n",
    "* In the example above, I looked at the free-air anomaly for one data point. Can you change which data point we look at in the above block of code. Note that all lists in Python have an index (that is, row numbers) that start at zero.\n",
    "* How do the Bouguer anomalies compare with what you can calculate?"
   ]
  },
  {
   "cell_type": "code",
   "execution_count": null,
   "metadata": {},
   "outputs": [],
   "source": [
    "# Make a graph with observed gravity on the Y axis and transect distance on the X axis\n",
    "observed_graph = alt.Chart(gravity_data).mark_point(color='black').encode(\n",
    "    x=alt.X('Transect_D:Q', axis=alt.Axis(title=\"Distance along Transect (m)\")),\n",
    "    y=alt.Y('OBSERVED_G:Q', scale=alt.Scale(zero=False), axis=alt.Axis(title=\"Observed Gravity (mGal)\"))\n",
    ")\n",
    "\n",
    "display(observed_graph)"
   ]
  },
  {
   "cell_type": "markdown",
   "metadata": {},
   "source": [
    "### Try this:\n",
    "* Copy the block of code above, and modify it to make a new graph, called FA_graph. Use it to graph the free-air anomaly. \n",
    "* Do the same with Complete Bouguer anomaly.\n",
    "* You can put two graphs on the same axes by using the \"+\" symbol between the graphs' names. Try that with the FA and Bouguer graph. You can put them one above another using \"&\" and side-by-side using \"|\"."
   ]
  },
  {
   "cell_type": "code",
   "execution_count": null,
   "metadata": {},
   "outputs": [],
   "source": [
    "# Make a graph of the predicted gravity anomaly due to a half-sheet starting at 20,000 m\n",
    "# Choose whatever density difference, thickness, and depth you like. \n",
    "# First we need to predict g due to a half sheet! \n",
    "# Let's make our predictions every 100m from 0 to 45 km along the transect\n",
    "predictions=pd.DataFrame(columns=['Position','delta_g'])\n",
    "predictions['Position'] = np.linspace(0,45000,100)\n",
    "predictions['delta_g'] = delta_g_half_sheet(density_difference=1000, t=10000, h=1000, x=predictions['Position']-20000)\n",
    "print(predictions.head()) # Print out a few values to check\n",
    "\n",
    "# Now make a graph of the predictions\n",
    "predicted_graph = alt.Chart(predictions).mark_line(color='red').encode(\n",
    "    x=alt.X('Position:Q', axis=alt.Axis(title=\"Distance along Transect (m)\")),\n",
    "    y=alt.Y('delta_g:Q', scale=alt.Scale(zero=False), axis=alt.Axis(title=\"Predicted Gravity (m/s^2)\"))\n",
    ")\n",
    "\n",
    "display(predicted_graph)"
   ]
  },
  {
   "cell_type": "code",
   "execution_count": null,
   "metadata": {},
   "outputs": [],
   "source": [
    "display(predicted_graph + observed_graph)"
   ]
  },
  {
   "cell_type": "markdown",
   "metadata": {},
   "source": [
    "### Try This!\n",
    "\n",
    "How would you fix the graphs of the observed and predicted gravity so that the trends in both could be seen? \n",
    "\n",
    "### And the final bit...\n",
    "\n",
    "Can you build a model that fits the general shape and scale of the gravity anomaly data? Which set of observations did you use, and why? Is your model the only one that fits? How does the model compare to other information about the area at [the WA DNR Geologic Map pa"
   ]
  },
  {
   "cell_type": "code",
   "execution_count": null,
   "metadata": {},
   "outputs": [],
   "source": [
    "# Easter egg for the problem set...\n",
    "latitude = 47.2529\n",
    "azimuth_plane = 270\n",
    "azimuth_ship=0\n",
    "v_ship=22\n",
    "v_plane=800\n",
    "h_ship=0\n",
    "h_plane=10000\n",
    "print('ship:',g_lambda(latitude)+delta_g_eotvos(v_ship,azimuth_ship,latitude)+0.3086*h_ship)\n",
    "print('plane:',g_lambda(latitude)+delta_g_eotvos(v_plane,azimuth_plane,latitude)+0.3086*h_plane)"
   ]
  }
 ],
 "metadata": {
  "kernelspec": {
   "display_name": "Python 3",
   "language": "python",
   "name": "python3"
  },
  "language_info": {
   "codemirror_mode": {
    "name": "ipython",
    "version": 3
   },
   "file_extension": ".py",
   "mimetype": "text/x-python",
   "name": "python",
   "nbconvert_exporter": "python",
   "pygments_lexer": "ipython3",
   "version": "3.7.6"
  }
 },
 "nbformat": 4,
 "nbformat_minor": 4
}
