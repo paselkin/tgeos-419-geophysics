{
 "cells": [
  {
   "cell_type": "markdown",
   "metadata": {},
   "source": [
    "# Module 3 Data Analysis: Seismology\n",
    "\n",
    "In this assignment, you will graph some seismic reflection data to determine the depth to groundwater in a shallow seismic survey, and build a model to explain the data.\n",
    "\n",
    "Remember: To run a block of code, press CTRL+ENTER. Remember that you'll need to re-run a block after you've made a modification to see what the effect is of your change! You'll want to start by running the blocks in sequential order."
   ]
  },
  {
   "cell_type": "code",
   "execution_count": 2,
   "metadata": {},
   "outputs": [],
   "source": [
    "import numpy as np\n",
    "import scipy as sp\n",
    "import pandas as pd\n",
    "import altair as alt"
   ]
  },
  {
   "cell_type": "markdown",
   "metadata": {},
   "source": [
    "Here are some single-channel seismic data from a groundwater survey in Maine:\n",
    "\n",
    "![Dataset 1](images/line_1.png)\n",
    "\n",
    "Your first job will be to enter the data into a file and read it into memory. Then create a t-X plot. Fit a best-fit line to each segment of the plot and graph those as well. Use the data to find the seismic velocity of the top two layers (unsaturated and water-saturated sediment). \n",
    "\n",
    "Repeat the process for Datasets 2 and 3, below."
   ]
  },
  {
   "cell_type": "code",
   "execution_count": 4,
   "metadata": {},
   "outputs": [
    {
     "name": "stdout",
     "output_type": "stream",
     "text": [
      "   distance  traveltime\n",
      "0         5     0.00276\n",
      "1        10     0.00510\n",
      "2        15     0.00700\n",
      "3        20     0.01000\n",
      "4        25     0.01300\n"
     ]
    }
   ],
   "source": [
    "# Read in seismic data from surveys (from an unknown location in Maine)\n",
    "seismic_data_1=pd.read_csv(\"2021-07-08_TGEOS_495_Maine_seismic_1.csv\") # Read in the data (as a spreadsheet)\n",
    "print (seismic_data_1.head()) # Show the first few lines of the spreadsheet"
   ]
  },
  {
   "cell_type": "code",
   "execution_count": 5,
   "metadata": {},
   "outputs": [
    {
     "data": {
      "text/html": [
       "\n",
       "<div id=\"altair-viz-e3a89a27ce694d9caae7bf3a164ecaa7\"></div>\n",
       "<script type=\"text/javascript\">\n",
       "  (function(spec, embedOpt){\n",
       "    let outputDiv = document.currentScript.previousElementSibling;\n",
       "    if (outputDiv.id !== \"altair-viz-e3a89a27ce694d9caae7bf3a164ecaa7\") {\n",
       "      outputDiv = document.getElementById(\"altair-viz-e3a89a27ce694d9caae7bf3a164ecaa7\");\n",
       "    }\n",
       "    const paths = {\n",
       "      \"vega\": \"https://cdn.jsdelivr.net/npm//vega@5?noext\",\n",
       "      \"vega-lib\": \"https://cdn.jsdelivr.net/npm//vega-lib?noext\",\n",
       "      \"vega-lite\": \"https://cdn.jsdelivr.net/npm//vega-lite@4.8.1?noext\",\n",
       "      \"vega-embed\": \"https://cdn.jsdelivr.net/npm//vega-embed@6?noext\",\n",
       "    };\n",
       "\n",
       "    function loadScript(lib) {\n",
       "      return new Promise(function(resolve, reject) {\n",
       "        var s = document.createElement('script');\n",
       "        s.src = paths[lib];\n",
       "        s.async = true;\n",
       "        s.onload = () => resolve(paths[lib]);\n",
       "        s.onerror = () => reject(`Error loading script: ${paths[lib]}`);\n",
       "        document.getElementsByTagName(\"head\")[0].appendChild(s);\n",
       "      });\n",
       "    }\n",
       "\n",
       "    function showError(err) {\n",
       "      outputDiv.innerHTML = `<div class=\"error\" style=\"color:red;\">${err}</div>`;\n",
       "      throw err;\n",
       "    }\n",
       "\n",
       "    function displayChart(vegaEmbed) {\n",
       "      vegaEmbed(outputDiv, spec, embedOpt)\n",
       "        .catch(err => showError(`Javascript Error: ${err.message}<br>This usually means there's a typo in your chart specification. See the javascript console for the full traceback.`));\n",
       "    }\n",
       "\n",
       "    if(typeof define === \"function\" && define.amd) {\n",
       "      requirejs.config({paths});\n",
       "      require([\"vega-embed\"], displayChart, err => showError(`Error loading script: ${err.message}`));\n",
       "    } else if (typeof vegaEmbed === \"function\") {\n",
       "      displayChart(vegaEmbed);\n",
       "    } else {\n",
       "      loadScript(\"vega\")\n",
       "        .then(() => loadScript(\"vega-lite\"))\n",
       "        .then(() => loadScript(\"vega-embed\"))\n",
       "        .catch(showError)\n",
       "        .then(() => displayChart(vegaEmbed));\n",
       "    }\n",
       "  })({\"config\": {\"view\": {\"continuousWidth\": 400, \"continuousHeight\": 300}}, \"data\": {\"name\": \"data-a7445a4cadc792d18f51469f3b70d111\"}, \"mark\": {\"type\": \"point\", \"color\": \"steelblue\"}, \"encoding\": {\"x\": {\"type\": \"quantitative\", \"axis\": {\"title\": \"Distance along Transect (ft)\"}, \"field\": \"distance\"}, \"y\": {\"type\": \"quantitative\", \"axis\": {\"title\": \"Travel Time (sec)\"}, \"field\": \"traveltime\", \"scale\": {\"zero\": false}}}, \"$schema\": \"https://vega.github.io/schema/vega-lite/v4.8.1.json\", \"datasets\": {\"data-a7445a4cadc792d18f51469f3b70d111\": [{\"distance\": 5, \"traveltime\": 0.0027600000000000003}, {\"distance\": 10, \"traveltime\": 0.0051}, {\"distance\": 15, \"traveltime\": 0.007}, {\"distance\": 20, \"traveltime\": 0.01}, {\"distance\": 25, \"traveltime\": 0.013}, {\"distance\": 30, \"traveltime\": 0.0162}, {\"distance\": 35, \"traveltime\": 0.0204}, {\"distance\": 40, \"traveltime\": 0.0232}, {\"distance\": 50, \"traveltime\": 0.0278}, {\"distance\": 60, \"traveltime\": 0.0288}, {\"distance\": 70, \"traveltime\": 0.0316}, {\"distance\": 80, \"traveltime\": 0.032}, {\"distance\": 90, \"traveltime\": 0.0348}, {\"distance\": 100, \"traveltime\": 0.036}, {\"distance\": 110, \"traveltime\": 0.0368}, {\"distance\": 120, \"traveltime\": 0.0372}, {\"distance\": 130, \"traveltime\": 0.038}, {\"distance\": 140, \"traveltime\": 0.0388}]}}, {\"mode\": \"vega-lite\"});\n",
       "</script>"
      ],
      "text/plain": [
       "alt.Chart(...)"
      ]
     },
     "metadata": {},
     "output_type": "display_data"
    }
   ],
   "source": [
    "# Make a graph with observed gravity on the Y axis and transect distance on the X axis\n",
    "section_1_graph = alt.Chart(seismic_data_1).mark_point(color='steelblue').encode(\n",
    "    x=alt.X('distance:Q', axis=alt.Axis(title=\"Distance along Transect (ft)\")),\n",
    "    y=alt.Y('traveltime:Q', scale=alt.Scale(zero=False), axis=alt.Axis(title=\"Travel Time (sec)\"))\n",
    ")\n",
    "\n",
    "display(section_1_graph)"
   ]
  },
  {
   "cell_type": "code",
   "execution_count": 10,
   "metadata": {},
   "outputs": [
    {
     "name": "stdout",
     "output_type": "stream",
     "text": [
      "Slope, intercept: [ 0.00059567 -0.001195  ]\n"
     ]
    }
   ],
   "source": [
    "# Fit a line to the first 8 points\n",
    "fit_1_1 = np.polyfit(seismic_data_1['distance'][0:8],seismic_data_1['traveltime'][0:8],1)\n",
    "print(\"Slope, intercept:\",fit_1_1)"
   ]
  },
  {
   "cell_type": "code",
   "execution_count": 14,
   "metadata": {},
   "outputs": [
    {
     "data": {
      "text/html": [
       "\n",
       "<div id=\"altair-viz-1489c6dcbd31402180262ba302ca367b\"></div>\n",
       "<script type=\"text/javascript\">\n",
       "  (function(spec, embedOpt){\n",
       "    let outputDiv = document.currentScript.previousElementSibling;\n",
       "    if (outputDiv.id !== \"altair-viz-1489c6dcbd31402180262ba302ca367b\") {\n",
       "      outputDiv = document.getElementById(\"altair-viz-1489c6dcbd31402180262ba302ca367b\");\n",
       "    }\n",
       "    const paths = {\n",
       "      \"vega\": \"https://cdn.jsdelivr.net/npm//vega@5?noext\",\n",
       "      \"vega-lib\": \"https://cdn.jsdelivr.net/npm//vega-lib?noext\",\n",
       "      \"vega-lite\": \"https://cdn.jsdelivr.net/npm//vega-lite@4.8.1?noext\",\n",
       "      \"vega-embed\": \"https://cdn.jsdelivr.net/npm//vega-embed@6?noext\",\n",
       "    };\n",
       "\n",
       "    function loadScript(lib) {\n",
       "      return new Promise(function(resolve, reject) {\n",
       "        var s = document.createElement('script');\n",
       "        s.src = paths[lib];\n",
       "        s.async = true;\n",
       "        s.onload = () => resolve(paths[lib]);\n",
       "        s.onerror = () => reject(`Error loading script: ${paths[lib]}`);\n",
       "        document.getElementsByTagName(\"head\")[0].appendChild(s);\n",
       "      });\n",
       "    }\n",
       "\n",
       "    function showError(err) {\n",
       "      outputDiv.innerHTML = `<div class=\"error\" style=\"color:red;\">${err}</div>`;\n",
       "      throw err;\n",
       "    }\n",
       "\n",
       "    function displayChart(vegaEmbed) {\n",
       "      vegaEmbed(outputDiv, spec, embedOpt)\n",
       "        .catch(err => showError(`Javascript Error: ${err.message}<br>This usually means there's a typo in your chart specification. See the javascript console for the full traceback.`));\n",
       "    }\n",
       "\n",
       "    if(typeof define === \"function\" && define.amd) {\n",
       "      requirejs.config({paths});\n",
       "      require([\"vega-embed\"], displayChart, err => showError(`Error loading script: ${err.message}`));\n",
       "    } else if (typeof vegaEmbed === \"function\") {\n",
       "      displayChart(vegaEmbed);\n",
       "    } else {\n",
       "      loadScript(\"vega\")\n",
       "        .then(() => loadScript(\"vega-lite\"))\n",
       "        .then(() => loadScript(\"vega-embed\"))\n",
       "        .catch(showError)\n",
       "        .then(() => displayChart(vegaEmbed));\n",
       "    }\n",
       "  })({\"config\": {\"view\": {\"continuousWidth\": 400, \"continuousHeight\": 300}}, \"layer\": [{\"mark\": {\"type\": \"point\", \"color\": \"steelblue\"}, \"encoding\": {\"x\": {\"type\": \"quantitative\", \"axis\": {\"title\": \"Distance along Transect (ft)\"}, \"field\": \"distance\"}, \"y\": {\"type\": \"quantitative\", \"axis\": {\"title\": \"Travel Time (sec)\"}, \"field\": \"traveltime\", \"scale\": {\"zero\": false}}}}, {\"mark\": {\"type\": \"line\", \"color\": \"black\"}, \"encoding\": {\"x\": {\"type\": \"quantitative\", \"axis\": {\"title\": \"Distance along Transect (ft)\"}, \"field\": \"distance\"}, \"y\": {\"type\": \"quantitative\", \"axis\": {\"title\": \"Layer 1 Travel Time (sec)\"}, \"field\": \"line_1_1\", \"scale\": {\"zero\": false}}}}], \"data\": {\"name\": \"data-8b2fff9e7c64ea45a716197f8e2832d9\"}, \"$schema\": \"https://vega.github.io/schema/vega-lite/v4.8.1.json\", \"datasets\": {\"data-8b2fff9e7c64ea45a716197f8e2832d9\": [{\"distance\": 5, \"traveltime\": 0.0027600000000000003, \"line_1_1\": 0.0017833333333333384}, {\"distance\": 10, \"traveltime\": 0.0051, \"line_1_1\": 0.004761666666666672}, {\"distance\": 15, \"traveltime\": 0.007, \"line_1_1\": 0.0077400000000000056}, {\"distance\": 20, \"traveltime\": 0.01, \"line_1_1\": 0.010718333333333338}, {\"distance\": 25, \"traveltime\": 0.013, \"line_1_1\": 0.013696666666666671}, {\"distance\": 30, \"traveltime\": 0.0162, \"line_1_1\": 0.016675000000000006}, {\"distance\": 35, \"traveltime\": 0.0204, \"line_1_1\": 0.01965333333333334}, {\"distance\": 40, \"traveltime\": 0.0232, \"line_1_1\": 0.02263166666666667}, {\"distance\": 50, \"traveltime\": 0.0278, \"line_1_1\": 0.028588333333333337}, {\"distance\": 60, \"traveltime\": 0.0288, \"line_1_1\": 0.034545000000000006}, {\"distance\": 70, \"traveltime\": 0.0316, \"line_1_1\": 0.04050166666666667}, {\"distance\": 80, \"traveltime\": 0.032, \"line_1_1\": 0.04645833333333334}, {\"distance\": 90, \"traveltime\": 0.0348, \"line_1_1\": 0.052415}, {\"distance\": 100, \"traveltime\": 0.036, \"line_1_1\": 0.05837166666666667}, {\"distance\": 110, \"traveltime\": 0.0368, \"line_1_1\": 0.06432833333333333}, {\"distance\": 120, \"traveltime\": 0.0372, \"line_1_1\": 0.070285}, {\"distance\": 130, \"traveltime\": 0.038, \"line_1_1\": 0.07624166666666667}, {\"distance\": 140, \"traveltime\": 0.0388, \"line_1_1\": 0.08219833333333333}]}}, {\"mode\": \"vega-lite\"});\n",
       "</script>"
      ],
      "text/plain": [
       "alt.LayerChart(...)"
      ]
     },
     "metadata": {},
     "output_type": "display_data"
    }
   ],
   "source": [
    "fit_1_1_function = np.poly1d(fit_1_1)\n",
    "seismic_data_1['line_1_1']=fit_1_1_function(seismic_data_1.distance)\n",
    "section_1_1_fit = alt.Chart(seismic_data_1).mark_line(color='black').encode(\n",
    "    x=alt.X('distance:Q', axis=alt.Axis(title=\"Distance along Transect (ft)\")),\n",
    "    y=alt.Y('line_1_1:Q', scale=alt.Scale(zero=False), axis=alt.Axis(title=\"Layer 1 Travel Time (sec)\"))\n",
    "\n",
    ")\n",
    "\n",
    "display(section_1_graph+section_1_1_fit)"
   ]
  },
  {
   "cell_type": "markdown",
   "metadata": {},
   "source": [
    "![Dataset 2](images/line_2.png)\n",
    "\n",
    "![Dataset 3](images/line_3.png)"
   ]
  }
 ],
 "metadata": {
  "kernelspec": {
   "display_name": "Python 3",
   "language": "python",
   "name": "python3"
  },
  "language_info": {
   "codemirror_mode": {
    "name": "ipython",
    "version": 3
   },
   "file_extension": ".py",
   "mimetype": "text/x-python",
   "name": "python",
   "nbconvert_exporter": "python",
   "pygments_lexer": "ipython3",
   "version": "3.7.6"
  }
 },
 "nbformat": 4,
 "nbformat_minor": 4
}
